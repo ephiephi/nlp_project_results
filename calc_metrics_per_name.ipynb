{
 "cells": [
  {
   "cell_type": "code",
   "execution_count": null,
   "id": "referenced-labor",
   "metadata": {},
   "outputs": [],
   "source": [
    "from pathlib import Path\n",
    "import pandas as pd\n",
    "from spacy.scorer import PRFScore\n",
    "\n",
    "from collections import Counter"
   ]
  },
  {
   "cell_type": "code",
   "execution_count": null,
   "id": "married-bible",
   "metadata": {},
   "outputs": [],
   "source": [
    "exp_dir = Path(\"dev_dataset_split_by_names/\")\n",
    "\n",
    "train_true_df_path = exp_dir / \"cyber_attrs_training_df.zip\"\n",
    "train_pred_df_path = exp_dir / \"cyber_attrs_training_by_model_df.zip\"\n",
    "test_true_df_path = exp_dir / \"cyber_attrs_eval_df.zip\"\n",
    "test_pred_df_path = exp_dir / \"cyber_attrs_eval_by_model_df.zip\""
   ]
  },
  {
   "cell_type": "code",
   "execution_count": null,
   "id": "institutional-brook",
   "metadata": {},
   "outputs": [],
   "source": []
  },
  {
   "cell_type": "markdown",
   "id": "molecular-appendix",
   "metadata": {},
   "source": [
    "#### utils"
   ]
  },
  {
   "cell_type": "code",
   "execution_count": null,
   "id": "killing-investment",
   "metadata": {},
   "outputs": [],
   "source": [
    "def count_names(df: pd.DataFrame, col_name: str):\n",
    "    names = df[col_name]\n",
    "    try:\n",
    "        names = names.apply(eval)\n",
    "    except TypeError:\n",
    "        pass\n",
    "    counter = Counter([x for _list in names for x in _list])\n",
    "    return counter\n",
    "\n",
    "\n",
    "def get_lower_names(counter: Counter):\n",
    "    return {name.lower() for name in counter.keys()}"
   ]
  },
  {
   "cell_type": "markdown",
   "id": "logical-anger",
   "metadata": {
    "code_folding": []
   },
   "source": [
    "# Evaluate on test-set"
   ]
  },
  {
   "cell_type": "code",
   "execution_count": null,
   "id": "meaningful-investor",
   "metadata": {},
   "outputs": [],
   "source": [
    "gold_df = pd.read_csv(test_true_df_path)\n",
    "cand_df = pd.read_csv(test_pred_df_path)"
   ]
  },
  {
   "cell_type": "code",
   "execution_count": null,
   "id": "nearby-comment",
   "metadata": {},
   "outputs": [],
   "source": [
    "entity_type = \"group_name\"\n",
    "\n",
    "gold_counter = count_names(gold_df, entity_type)\n",
    "gold_names = get_lower_names(gold_counter)\n",
    "\n",
    "cand_counter = count_names(cand_df, entity_type)\n",
    "cand_names = get_lower_names(cand_counter)\n",
    "\n",
    "all_names = cand_names.union(gold_names)\n",
    "\n",
    "print(f\"{entity_type}: {len(gold_names)=}\")\n",
    "print(f\"{entity_type}: {len(cand_names)=}\")\n",
    "print(f\"{entity_type}: {len(gold_names-cand_names)=}\")\n",
    "print(f\"{entity_type}: {len(cand_names-gold_names)=}\")\n",
    "print(f\"{entity_type} {len(all_names)=}\")\n"
   ]
  },
  {
   "cell_type": "code",
   "execution_count": null,
   "id": "amino-phoenix",
   "metadata": {},
   "outputs": [],
   "source": [
    "# slice into interesting lines only -> than create a column for each name the dataset was labeled by\n",
    "assert gold_df.shape == cand_df.shape\n",
    "gold_names_series = gold_df.copy()\n",
    "gold_names_series = gold_names_series[\n",
    "    (gold_df[entity_type] != \"[]\") |\n",
    "    (cand_df[entity_type] != \"[]\")\n",
    "    ]\n",
    "gold_names_series = gold_names_series[entity_type]\n",
    "\n",
    "cand_names_series = cand_df.copy()\n",
    "cand_names_series = cand_names_series[\n",
    "    (gold_df[entity_type] != \"[]\") |\n",
    "    (cand_df[entity_type] != \"[]\")\n",
    "    ]\n",
    "cand_names_series = cand_names_series[entity_type]\n",
    "\n",
    "comp_gold_cand_df = pd.concat([gold_names_series, cand_names_series], axis=1)\n",
    "comp_gold_cand_df.columns = [\"gold_names\", \"cand_names\"]\n",
    "print(f\"{comp_gold_cand_df.shape=}\")\n",
    "\n",
    "\n",
    "# convert to be list based\n",
    "for col in comp_gold_cand_df.columns:\n",
    "    try:\n",
    "        comp_gold_cand_df[col] = comp_gold_cand_df[col].apply(eval)\n",
    "    except TypeError:\n",
    "        pass"
   ]
  },
  {
   "cell_type": "code",
   "execution_count": null,
   "id": "fiscal-welding",
   "metadata": {},
   "outputs": [],
   "source": [
    "prf_names = {name: PRFScore() for name in all_names}\n",
    "for idx in range(comp_gold_cand_df.shape[0]):\n",
    "    line_gold_names = comp_gold_cand_df.iloc[idx][0]\n",
    "    line_cand_names = comp_gold_cand_df.iloc[idx][1]\n",
    "    tp_name = 0\n",
    "\n",
    "    # Calc TruePositive + FalsePositive\n",
    "    for name in line_cand_names:\n",
    "        if name in line_gold_names:\n",
    "            prf_names[name].tp += 1\n",
    "        else:\n",
    "            prf_names[name].fp += 1\n",
    "    # Calc FalseNegative\n",
    "    for name in set(line_gold_names) - set(line_cand_names):\n",
    "        prf_names[name].fn += 1\n",
    "\n",
    "\n",
    "prf_dict = {name: [prf.tp, prf.fp, prf.fn,prf.recall, prf.precision, prf.fscore, (prf.tp/(prf.tp+prf.fn+1e-100))] for name, prf in prf_names.items()}\n",
    "prd_df = pd.DataFrame(prf_dict).transpose()\n",
    "prd_df.columns = [\"tp\", \"fp\", \"fn\", \"recall\", \"precision\", \"f1\", \"acc\"]\n",
    "print(f\"{prd_df.shape=}\")\n",
    "with pd.option_context('display.max_rows', 500, 'display.max_columns', 10):\n",
    "    display(prd_df)"
   ]
  },
  {
   "cell_type": "code",
   "execution_count": null,
   "id": "anticipated-bleeding",
   "metadata": {},
   "outputs": [],
   "source": [
    "prf = PRFScore()\n",
    "prf.tp = prd_df.tp.sum()\n",
    "prf.fp = prd_df.fp.sum()\n",
    "prf.fn = prd_df.fn.sum()\n",
    "\n",
    "prf_tot_df = pd.DataFrame([prf.tp, prf.fp, prf.fn,prf.recall, prf.precision, prf.fscore, (prf.tp/(prf.tp+prf.fn+1e-100))]).transpose()\n",
    "prf_tot_df.columns = [\"tp\", \"fp\", \"fn\", \"recall\", \"precision\", \"f1\", \"acc\"]\n",
    "prf_tot_df"
   ]
  },
  {
   "cell_type": "markdown",
   "id": "architectural-prefix",
   "metadata": {},
   "source": [
    "# Evaluate on train-set (Copy paste the code from above)"
   ]
  },
  {
   "cell_type": "code",
   "execution_count": null,
   "id": "north-baking",
   "metadata": {},
   "outputs": [],
   "source": [
    "gold_df = pd.read_csv(train_true_df_path)\n",
    "cand_df = pd.read_csv(train_pred_df_path)"
   ]
  },
  {
   "cell_type": "code",
   "execution_count": null,
   "id": "decreased-variable",
   "metadata": {},
   "outputs": [],
   "source": [
    "entity_type = \"group_name\"\n",
    "\n",
    "gold_counter = count_names(gold_df, entity_type)\n",
    "gold_names = get_lower_names(gold_counter)\n",
    "\n",
    "cand_counter = count_names(cand_df, entity_type)\n",
    "cand_names = get_lower_names(cand_counter)\n",
    "\n",
    "all_names = cand_names.union(gold_names)\n",
    "\n",
    "print(f\"{entity_type}: {len(gold_names)=}\")\n",
    "print(f\"{entity_type}: {len(cand_names)=}\")\n",
    "print(f\"{entity_type}: {len(gold_names-cand_names)=}\")\n",
    "print(f\"{entity_type}: {len(cand_names-gold_names)=}\")\n",
    "print(f\"{entity_type} {len(all_names)=}\")\n",
    "################################################################################3\n",
    "# slice into interesting lines only -> than create a column for each name the dataset was labeled by\n",
    "assert gold_df.shape == cand_df.shape\n",
    "gold_names_series = gold_df.copy()\n",
    "gold_names_series = gold_names_series[\n",
    "    (gold_df[entity_type] != \"[]\") |\n",
    "    (cand_df[entity_type] != \"[]\")\n",
    "    ]\n",
    "gold_names_series = gold_names_series[entity_type]\n",
    "\n",
    "cand_names_series = cand_df.copy()\n",
    "cand_names_series = cand_names_series[\n",
    "    (gold_df[entity_type] != \"[]\") |\n",
    "    (cand_df[entity_type] != \"[]\")\n",
    "    ]\n",
    "cand_names_series = cand_names_series[entity_type]\n",
    "\n",
    "comp_gold_cand_df = pd.concat([gold_names_series, cand_names_series], axis=1)\n",
    "comp_gold_cand_df.columns = [\"gold_names\", \"cand_names\"]\n",
    "print(f\"{comp_gold_cand_df.shape=}\")\n",
    "\n",
    "\n",
    "# convert to be list based\n",
    "for col in comp_gold_cand_df.columns:\n",
    "    try:\n",
    "        comp_gold_cand_df[col] = comp_gold_cand_df[col].apply(eval)\n",
    "    except TypeError:\n",
    "        pass\n",
    "################################################################################\n",
    "prf_names = {name: PRFScore() for name in all_names}\n",
    "for idx in range(comp_gold_cand_df.shape[0]):\n",
    "    line_gold_names = comp_gold_cand_df.iloc[idx][0]\n",
    "    line_cand_names = comp_gold_cand_df.iloc[idx][1]\n",
    "    tp_name = 0\n",
    "\n",
    "    # Calc TruePositive + FalsePositive\n",
    "    for name in line_cand_names:\n",
    "        if name in line_gold_names:\n",
    "            prf_names[name].tp += 1\n",
    "        else:\n",
    "            prf_names[name].fp += 1\n",
    "    # Calc FalseNegative\n",
    "    for name in set(line_gold_names) - set(line_cand_names):\n",
    "        prf_names[name].fn += 1\n",
    "\n",
    "\n",
    "prf_dict = {name: [prf.tp, prf.fp, prf.fn,prf.recall, prf.precision, prf.fscore, (prf.tp/(prf.tp+prf.fn+1e-100))] for name, prf in prf_names.items()}\n",
    "prd_df = pd.DataFrame(prf_dict).transpose()\n",
    "prd_df.columns = [\"tp\", \"fp\", \"fn\", \"recall\", \"precision\", \"f1\", \"acc\"]\n",
    "print(f\"{prd_df.shape=}\")\n",
    "with pd.option_context('display.max_rows', 500, 'display.max_columns', 10):\n",
    "    display(prd_df)"
   ]
  },
  {
   "cell_type": "code",
   "execution_count": null,
   "id": "perceived-memphis",
   "metadata": {},
   "outputs": [],
   "source": [
    "prf = PRFScore()\n",
    "prf.tp = prd_df.tp.sum()\n",
    "prf.fp = prd_df.fp.sum()\n",
    "prf.fn = prd_df.fn.sum()\n",
    "\n",
    "prf_tot_df = pd.DataFrame([prf.tp, prf.fp, prf.fn,prf.recall, prf.precision, prf.fscore, (prf.tp/(prf.tp+prf.fn+1e-100))]).transpose()\n",
    "prf_tot_df.columns = [\"tp\", \"fp\", \"fn\", \"recall\", \"precision\", \"f1\", \"acc\"]\n",
    "prf_tot_df"
   ]
  }
 ],
 "metadata": {
  "kernelspec": {
   "display_name": "Python 3",
   "language": "python",
   "name": "python3"
  },
  "language_info": {
   "codemirror_mode": {
    "name": "ipython",
    "version": 3
   },
   "file_extension": ".py",
   "mimetype": "text/x-python",
   "name": "python",
   "nbconvert_exporter": "python",
   "pygments_lexer": "ipython3",
   "version": "3.8.8"
  }
 },
 "nbformat": 4,
 "nbformat_minor": 5
}
